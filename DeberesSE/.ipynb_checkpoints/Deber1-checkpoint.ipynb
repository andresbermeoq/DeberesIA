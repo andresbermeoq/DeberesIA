{
 "cells": [
  {
   "cell_type": "markdown",
   "metadata": {},
   "source": [
    "## Suponga que una agencia de viaje desea que diseñemos un S.E. para ayudar a los clientes a elegir un destino vacacional. Analizar lo siguiente:"
   ]
  },
  {
   "cell_type": "markdown",
   "metadata": {},
   "source": [
    "1. ¿Es un problema adecuado para la implementación de un S.E.?. Justifique su respuesta."
   ]
  },
  {
   "cell_type": "markdown",
   "metadata": {},
   "source": [
    "Esto ayudara a agilizar algunos procesos establecidos dentro de la agencia, nos ayudara a agilizar la toma de decisiones por parte de los clientes y ayuda a los empleados a la gestion de dicha sugerencia a la hora de vender. "
   ]
  },
  {
   "cell_type": "markdown",
   "metadata": {},
   "source": [
    "2. Plantee una idea de cómo realizaría el proceso de adquisición de conocimiento"
   ]
  },
  {
   "cell_type": "markdown",
   "metadata": {},
   "source": [
    "Basados en las sugerencias establecidas por el Ministerio de Turismo, visitar las agencias de viajes del pais para lograr obtener un modelo bastante robusto para poder tener una mejor opinion"
   ]
  },
  {
   "cell_type": "markdown",
   "metadata": {},
   "source": [
    "3. ¿Qué estructura lógica cree que podría usar para implementar dicho sistema?"
   ]
  },
  {
   "cell_type": "markdown",
   "metadata": {},
   "source": [
    "Primeramente extraer y recolectar informacion de los destinos vacacionales que crea necesario, y tambien que mas popularidad tengan con respecto a los extranjeros que reciben cada año. Luego clasificar, ordenar bien esa informacion para luego procesarla con el sistema experto. Bueno y al final es desarrollar el sistema experto implementadolo con toda la informacion extraida sobre los destions vacacionales."
   ]
  },
  {
   "cell_type": "markdown",
   "metadata": {},
   "source": [
    "En base a la problemática de COVID, es factible realizar un SE para diagnosticar su contagio"
   ]
  },
  {
   "cell_type": "markdown",
   "metadata": {},
   "source": [
    "Si podemos implementarlo en la deteccion de radiografias, deberias implementar un sistema experto que toma como adquision las radiografias establecidas a las personas contagiadas para ir comparar cada radiografia y entrenando a dicho sistema."
   ]
  },
  {
   "cell_type": "code",
   "execution_count": null,
   "metadata": {},
   "outputs": [],
   "source": []
  }
 ],
 "metadata": {
  "kernelspec": {
   "display_name": "Python 3",
   "language": "python",
   "name": "python3"
  },
  "language_info": {
   "codemirror_mode": {
    "name": "ipython",
    "version": 3
   },
   "file_extension": ".py",
   "mimetype": "text/x-python",
   "name": "python",
   "nbconvert_exporter": "python",
   "pygments_lexer": "ipython3",
   "version": "3.7.4"
  }
 },
 "nbformat": 4,
 "nbformat_minor": 2
}
